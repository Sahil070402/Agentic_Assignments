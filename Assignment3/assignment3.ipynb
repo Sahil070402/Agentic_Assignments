{
 "cells": [
  {
   "cell_type": "markdown",
   "id": "6d3dbe91",
   "metadata": {},
   "source": [
    "### setup and import"
   ]
  },
  {
   "cell_type": "code",
   "execution_count": 54,
   "id": "f3932c5c",
   "metadata": {},
   "outputs": [],
   "source": [
    "from langchain_openai import ChatOpenAI\n",
    "from langchain_google_genai import GoogleGenerativeAIEmbeddings\n",
    "from langchain.document_loaders import TextLoader, DirectoryLoader\n",
    "from langchain.text_splitter import RecursiveCharacterTextSplitter\n",
    "from langchain_community.vectorstores import Chroma\n",
    "from langchain.prompts import PromptTemplate\n",
    "from langchain_core.output_parsers import StrOutputParser\n",
    "from langchain_core.runnables import RunnablePassthrough, RunnableLambda\n",
    "from langchain_core.messages import BaseMessage, HumanMessage\n",
    "from langgraph.graph import StateGraph, END\n",
    "from typing import TypedDict, Annotated, Sequence\n",
    "import operator\n",
    "from pydantic import BaseModel, Field\n",
    "from langchain.output_parsers import PydanticOutputParser\n",
    "from langchain_community.tools import TavilySearchResults\n",
    "from dotenv import load_dotenv\n",
    "import os\n",
    "import logging\n",
    "\n",
    "# Set up logging\n",
    "logging.basicConfig(level=logging.ERROR)\n",
    "logger = logging.getLogger(__name__)\n",
    "\n",
    "# Load environment variables\n",
    "try:\n",
    "    load_dotenv()\n",
    "except Exception as e:\n",
    "    logger.error(f\"Failed to load environment variables: {str(e)}\")\n",
    "    raise EnvironmentError(\"Could not load environment variables. Ensure .env file is configured.\")\n",
    "\n",
    "# Initialize model, embeddings, and Tavily tool\n",
    "try:\n",
    "    model = ChatOpenAI(\n",
    "        model=\"gpt-4o-2024-08-06\",\n",
    "        openai_api_key=os.getenv(\"OPENAI_API_KEY\"),\n",
    "        openai_api_base=os.getenv(\"BASE_URL\"),\n",
    "    )\n",
    "except Exception as e:\n",
    "    logger.error(f\"Failed to initialize ChatOpenAI: {str(e)}\")\n",
    "    raise ValueError(\"Failed to initialize language model. Check API key and base URL.\")\n",
    "\n",
    "try:\n",
    "    embeddings = GoogleGenerativeAIEmbeddings(model=\"models/text-embedding-004\")\n",
    "except Exception as e:\n",
    "    logger.error(f\"Failed to initialize embeddings: {str(e)}\")\n",
    "    raise ValueError(\"Failed to initialize embeddings. Check Google API configuration.\")\n",
    "\n",
    "try:\n",
    "    tool = TavilySearchResults(api_key=os.getenv('TAVILY_API_KEY'))\n",
    "except Exception as e:\n",
    "    logger.error(f\"Failed to initialize Tavily tool: {str(e)}\")\n",
    "    raise ValueError(\"Failed to initialize Tavily search tool. Check API key.\")"
   ]
  },
  {
   "cell_type": "code",
   "execution_count": 55,
   "id": "816c4c40",
   "metadata": {},
   "outputs": [
    {
     "data": {
      "text/plain": [
       "'d:\\\\AgenticAssignments\\\\Assignment3'"
      ]
     },
     "execution_count": 55,
     "metadata": {},
     "output_type": "execute_result"
    }
   ],
   "source": [
    "os.getcwd()"
   ]
  },
  {
   "cell_type": "markdown",
   "id": "30523a81",
   "metadata": {},
   "source": [
    "### Document loading and vector store"
   ]
  },
  {
   "cell_type": "code",
   "execution_count": null,
   "id": "52c1a74a",
   "metadata": {},
   "outputs": [],
   "source": [
    "\n",
    "try:\n",
    "    loader = DirectoryLoader(\n",
    "        path='data',\n",
    "        glob='*.txt',\n",
    "        loader_cls=TextLoader\n",
    "    )\n",
    "    docs = loader.load()\n",
    "    if not docs:\n",
    "        raise ValueError(\"No documents loaded from data2 directory.\")\n",
    "except Exception as e:\n",
    "    logger.error(f\"Failed to load documents: {str(e)}\")\n",
    "    raise FileNotFoundError(\"Could not load documents from data2 directory. Ensure it exists and contains .txt files.\")\n",
    "\n",
    "try:\n",
    "    text_splitter = RecursiveCharacterTextSplitter(\n",
    "        chunk_size=200,\n",
    "        chunk_overlap=50\n",
    "    )\n",
    "    new_docs = text_splitter.split_documents(documents=docs)\n",
    "    db = Chroma.from_documents(new_docs, embeddings)\n",
    "    retriever = db.as_retriever(search_kwargs={'k': 3})\n",
    "except Exception as e:\n",
    "    logger.error(f\"Failed to create vector store: {str(e)}\")\n",
    "    raise ValueError(\"Failed to create vector store. Check document splitting or embedding process.\")\n",
    "\n",
    "def format_docs(docs):\n",
    "    return \"\\n\\n\".join(doc.page_content for doc in docs)"
   ]
  },
  {
   "cell_type": "markdown",
   "id": "5deb4206",
   "metadata": {},
   "source": [
    "### Pydantic parser and agent state"
   ]
  },
  {
   "cell_type": "code",
   "execution_count": 57,
   "id": "0d6b3973",
   "metadata": {},
   "outputs": [],
   "source": [
    "\n",
    "# Pydantic parser and agent state\n",
    "class TopicSelectionParser(BaseModel):\n",
    "    Topic: str = Field(description=\"selected topic\")\n",
    "    Reasoning: str = Field(description=\"Reasoning behind topic selection\")\n",
    "\n",
    "parser = PydanticOutputParser(pydantic_object=TopicSelectionParser)\n",
    "\n",
    "class AgentState(TypedDict):\n",
    "    messages: Annotated[Sequence[BaseMessage], operator.add]"
   ]
  },
  {
   "cell_type": "markdown",
   "id": "7eb5d1ba",
   "metadata": {},
   "source": [
    "### Supervisor node"
   ]
  },
  {
   "cell_type": "code",
   "execution_count": 58,
   "id": "bc3f726f",
   "metadata": {},
   "outputs": [],
   "source": [
    "# Supervisor node\n",
    "def function_1(state: AgentState):\n",
    "    try:\n",
    "        question = state[\"messages\"][-1]\n",
    "        print(\"Question:\", question)\n",
    "\n",
    "        template = \"\"\"\n",
    "        Your task is to classify the given user query into one of the following categories: [USA, Web, Not Related]. \n",
    "        - Choose 'USA' if the query is related to the United States (e.g., economy, GDP, industries).\n",
    "        - Choose 'Web' if the query requires real-time information from the internet (e.g., recent events, news).\n",
    "        - Choose 'Not Related' for all other queries.\n",
    "        Only respond with the category name and reasoning in the specified format.\n",
    "\n",
    "        User query: {question}\n",
    "        {format_instructions}\n",
    "        \"\"\"\n",
    "\n",
    "        prompt = PromptTemplate(\n",
    "            template=template,\n",
    "            input_variables=[\"question\"],\n",
    "            partial_variables={\"format_instructions\": parser.get_format_instructions()}\n",
    "        )\n",
    "\n",
    "        chain = prompt | model | parser\n",
    "        response = chain.invoke({\"question\": question})\n",
    "        print(\"Parsed response:\", response)\n",
    "        return {\"messages\": [response.Topic]}\n",
    "    except Exception as e:\n",
    "        logger.error(f\"Supervisor node failed: {str(e)}\")\n",
    "        return {\"messages\": [\"Error: Supervisor failed to classify query.\"]}"
   ]
  },
  {
   "cell_type": "markdown",
   "id": "f41cc5e6",
   "metadata": {},
   "source": [
    "### debugging supervisor node"
   ]
  },
  {
   "cell_type": "code",
   "execution_count": null,
   "id": "23f1be1f",
   "metadata": {},
   "outputs": [
    {
     "name": "stdout",
     "output_type": "stream",
     "text": [
      "Question: what are current stock market prices\n",
      "Parsed response: Topic='Web' Reasoning=\"The query asks for 'current stock market prices,' which requires real-time data from the internet.\"\n"
     ]
    },
    {
     "data": {
      "text/plain": [
       "{'messages': ['Web']}"
      ]
     },
     "execution_count": 8,
     "metadata": {},
     "output_type": "execute_result"
    }
   ],
   "source": [
    "\n",
    "function_1({'messages':['what are current stock market prices']})"
   ]
  },
  {
   "cell_type": "markdown",
   "id": "719dbfc3",
   "metadata": {},
   "source": [
    "### Router function"
   ]
  },
  {
   "cell_type": "code",
   "execution_count": 59,
   "id": "606fa42a",
   "metadata": {},
   "outputs": [],
   "source": [
    "# Router function\n",
    "def router(state: AgentState):\n",
    "    print(\"-->Router-->\")\n",
    "    try:\n",
    "        last_message = state[\"messages\"][-1]\n",
    "        print(\"last_message:\", last_message)\n",
    "        if \"usa\" in last_message.lower():\n",
    "            return \"RAG Call\"\n",
    "        elif \"web\" in last_message.lower():\n",
    "            return \"Web Call\"\n",
    "        else:\n",
    "            return \"LLM Call\"\n",
    "    except Exception as e:\n",
    "        logger.error(f\"Router failed: {str(e)}\")\n",
    "        raise RuntimeError(f\"Router failed to determine the next node: {str(e)}\")"
   ]
  },
  {
   "cell_type": "markdown",
   "id": "84af9973",
   "metadata": {},
   "source": [
    "### debugging router function"
   ]
  },
  {
   "cell_type": "code",
   "execution_count": null,
   "id": "0acdd92f",
   "metadata": {},
   "outputs": [
    {
     "name": "stdout",
     "output_type": "stream",
     "text": [
      "-->Router-->\n",
      "last_message: Web\n"
     ]
    },
    {
     "data": {
      "text/plain": [
       "'Web Call'"
      ]
     },
     "execution_count": 10,
     "metadata": {},
     "output_type": "execute_result"
    }
   ],
   "source": [
    "\n",
    "router({'messages':['Web']})"
   ]
  },
  {
   "cell_type": "markdown",
   "id": "8b83bffd",
   "metadata": {},
   "source": [
    "### RAG node"
   ]
  },
  {
   "cell_type": "code",
   "execution_count": null,
   "id": "6c1cde60",
   "metadata": {},
   "outputs": [],
   "source": [
    "\n",
    "def function_2(state: AgentState):\n",
    "    print(\"-> RAG Call ->\")\n",
    "    try:\n",
    "        question = state[\"messages\"][0]\n",
    "\n",
    "        prompt = PromptTemplate(\n",
    "            template=\"\"\"You are an assistant for question-answering tasks. Use the following pieces of retrieved context to answer the question. If you don't know the answer, just say that you don't know. Use three sentences maximum and keep the answer concise.\n",
    "            Question: {question}\n",
    "            Context: {context}\n",
    "            Answer:\"\"\",\n",
    "            input_variables=['context', 'question']\n",
    "        )\n",
    "\n",
    "        rag_chain = (\n",
    "            {\"context\": retriever | format_docs, \"question\": RunnablePassthrough()}\n",
    "            | prompt\n",
    "            | model\n",
    "            | StrOutputParser()\n",
    "        )\n",
    "        result = rag_chain.invoke(question)\n",
    "        return {\"messages\": [result]}\n",
    "    except Exception as e:\n",
    "        logger.error(f\"RAG node failed: {str(e)}\")\n",
    "        return {\"messages\": [\"Error: RAG node failed to generate answer.\"]}"
   ]
  },
  {
   "cell_type": "markdown",
   "id": "4cfaa113",
   "metadata": {},
   "source": [
    "### debugging rag call"
   ]
  },
  {
   "cell_type": "code",
   "execution_count": null,
   "id": "291a7976",
   "metadata": {},
   "outputs": [
    {
     "name": "stdout",
     "output_type": "stream",
     "text": [
      "-> RAG Call ->\n"
     ]
    },
    {
     "data": {
      "text/plain": [
       "{'messages': [\"In 2024, the United States' nominal GDP is estimated to be around $28 trillion USD. This accounts for approximately 25% of the global economy, ranking it #1 worldwide. The U.S. sustains its GDP growth through innovation, entrepreneurship, and investment in R&D.\\n\"]}"
      ]
     },
     "execution_count": 12,
     "metadata": {},
     "output_type": "execute_result"
    }
   ],
   "source": [
    "\n",
    "function_2({'messages':['tell me about usa gdp']})"
   ]
  },
  {
   "cell_type": "markdown",
   "id": "30c81ed4",
   "metadata": {},
   "source": [
    "### LLM node"
   ]
  },
  {
   "cell_type": "code",
   "execution_count": null,
   "id": "5a8d070f",
   "metadata": {},
   "outputs": [],
   "source": [
    "\n",
    "def function_3(state: AgentState):\n",
    "    print(\"-> LLM Call ->\")\n",
    "    try:\n",
    "        question = state[\"messages\"][0]\n",
    "        complete_query = \"Answer the following question with your knowledge of the real world. Following is the user question: \" + question\n",
    "        response = model.invoke(complete_query)\n",
    "        return {\"messages\": [response.content]}\n",
    "    \n",
    "    except Exception as e:\n",
    "        print(f\"Error in LLM call: {e}\")\n",
    "        return {\"messages\": [f\"Sorry, I encountered an error: {str(e)}\"]}\n",
    "\n"
   ]
  },
  {
   "cell_type": "markdown",
   "id": "1ca87272",
   "metadata": {},
   "source": [
    "### debugging llm"
   ]
  },
  {
   "cell_type": "code",
   "execution_count": null,
   "id": "86f4ca71",
   "metadata": {},
   "outputs": [
    {
     "name": "stdout",
     "output_type": "stream",
     "text": [
      "-> LLM Call ->\n"
     ]
    },
    {
     "data": {
      "text/plain": [
       "{'messages': ['Neural networks are a type of machine learning algorithm inspired by the structure and function of the human brain. They are designed to recognize patterns and learn from data, becoming more accurate in their predictions over time. Here\\'s a breakdown:\\n\\n**Core Concept: Artificial Neurons**\\n\\n*   **Inspired by Biology:** Just like the brain uses neurons to process information, neural networks use artificial neurons (also called nodes) as their basic building blocks.\\n*   **Basic Function:** Each artificial neuron receives input, performs a mathematical operation on it (often a weighted sum followed by an activation function), and produces an output.\\n\\n**Key Components of a Neural Network:**\\n\\n*   **Neurons (Nodes):** The fundamental processing units, mimicking biological neurons.\\n*   **Connections (Edges):**  Connect neurons together. Each connection has a weight associated with it, representing the strength of that connection.\\n*   **Layers:** Neurons are typically organized into layers:\\n    *   **Input Layer:** Receives the initial data (e.g., pixel values of an image, text data, sensor readings).\\n    *   **Hidden Layers:** One or more layers that process the input data through multiple transformations. These layers are where the learning happens.  The more hidden layers there are, the \"deeper\" the network is.\\n    *   **Output Layer:** Produces the final result (e.g., a classification label, a prediction).\\n*   **Weights:** Numbers associated with each connection between neurons. These weights are adjusted during the learning process to improve the network\\'s accuracy.\\n*   **Biases:**  Each neuron also has a bias, which is a constant value added to the weighted sum.  This allows the neuron to activate even when the input is zero or very small.\\n*   **Activation Functions:**  A function applied to the output of each neuron. Common activation functions include:\\n    *   **ReLU (Rectified Linear Unit):**  Output is the input if it\\'s positive; otherwise, it\\'s zero.\\n    *   **Sigmoid:** Output is a value between 0 and 1, useful for probability outputs.\\n    *   **Tanh (Hyperbolic Tangent):** Output is a value between -1 and 1.\\n\\n**How Neural Networks Learn (Training):**\\n\\n1.  **Feedforward:** Input data is passed through the network, layer by layer, to produce an output.\\n2.  **Calculate Error:** The network\\'s output is compared to the desired output (the correct answer). The difference is the error.\\n3.  **Backpropagation:** The error is propagated back through the network, adjusting the weights and biases to reduce the error. This is done using optimization algorithms like gradient descent.\\n4.  **Iteration:** This process (feedforward, calculate error, backpropagation) is repeated many times with different data samples.  The network gradually learns the patterns in the data and improves its accuracy.\\n\\n**Types of Neural Networks:**\\n\\n*   **Feedforward Neural Networks (FFNNs):** The simplest type, where data flows in one direction, from input to output.\\n*   **Convolutional Neural Networks (CNNs):**  Designed for processing images and video. They use convolutional layers to automatically learn features from the data.\\n*   **Recurrent Neural Networks (RNNs):**  Designed for processing sequential data, such as text or time series. They have feedback loops that allow them to maintain a \"memory\" of past inputs.\\n*   **Long Short-Term Memory (LSTM) Networks:** A special type of RNN that is better at handling long-range dependencies in sequential data.\\n*   **Generative Adversarial Networks (GANs):** Used for generating new data that resembles the training data. They consist of two networks: a generator and a discriminator.\\n*   **Transformers:** A more recent architecture that has revolutionized natural language processing. They rely on attention mechanisms to learn relationships between different parts of the input.\\n\\n**Applications of Neural Networks:**\\n\\nNeural networks are used in a wide range of applications, including:\\n\\n*   **Image Recognition:** Identifying objects in images (e.g., faces, cars, animals).\\n*   **Natural Language Processing (NLP):** Understanding and generating human language (e.g., chatbots, machine translation, text summarization).\\n*   **Speech Recognition:** Converting spoken language into text.\\n*   **Machine Translation:** Translating text from one language to another.\\n*   **Recommender Systems:** Suggesting products or content based on user preferences.\\n*   **Self-Driving Cars:** Controlling the steering, acceleration, and braking of autonomous vehicles.\\n*   **Fraud Detection:** Identifying fraudulent transactions.\\n*   **Medical Diagnosis:** Assisting doctors in diagnosing diseases.\\n*   **Financial Modeling:** Predicting stock prices and other financial data.\\n*   **Game Playing:** Training AI agents to play complex games like Go or Chess.\\n\\n**Advantages of Neural Networks:**\\n\\n*   **Automatic Feature Extraction:** They can automatically learn relevant features from raw data, reducing the need for manual feature engineering.\\n*   **High Accuracy:** They can achieve high accuracy on complex tasks.\\n*   **Adaptability:** They can be trained on new data to adapt to changing conditions.\\n*   **Parallel Processing:** Their structure allows for parallel processing, which can speed up training and inference.\\n\\n**Disadvantages of Neural Networks:**\\n\\n*   **Data Intensive:** They require large amounts of training data to achieve good performance.\\n*   **Computationally Expensive:** Training can be very computationally expensive, requiring powerful hardware and time.\\n*   **Black Box Nature:** They can be difficult to interpret; it\\'s often hard to understand why a neural network makes a particular prediction.\\n*   **Overfitting:** They can overfit the training data, leading to poor generalization to unseen data.\\n*   **Hyperparameter Tuning:** Tuning the various parameters of a neural network can be challenging and time-consuming.\\n\\n**In Summary:**\\n\\nNeural networks are powerful machine learning tools inspired by the brain. They excel at learning complex patterns from data and are used in numerous applications. While they have limitations, their capabilities continue to advance, making them a central part of modern AI.\\n']}"
      ]
     },
     "execution_count": 14,
     "metadata": {},
     "output_type": "execute_result"
    }
   ],
   "source": [
    "\n",
    "function_3({'messages':['what are neural networks']})"
   ]
  },
  {
   "cell_type": "markdown",
   "id": "5daf90ef",
   "metadata": {},
   "source": [
    "### Web crawler node"
   ]
  },
  {
   "cell_type": "code",
   "execution_count": null,
   "id": "3459e209",
   "metadata": {},
   "outputs": [],
   "source": [
    "\n",
    "def function_4(state: AgentState):\n",
    "    print(\"-> Web Call ->\")\n",
    "    try:\n",
    "        question = state[\"messages\"][0]\n",
    "\n",
    "        prompt = PromptTemplate(\n",
    "            template=\"\"\"You are an assistant for question-answering tasks. Use the following pieces of retrieved context from a web search to answer the question. If you don't know the answer, just say that you don't know. Use three sentences maximum and keep the answer concise.\n",
    "            Question: {question}\n",
    "            Context: {context}\n",
    "            Answer:\"\"\",\n",
    "            input_variables=['context', 'question']\n",
    "        )\n",
    "\n",
    "        web_results = tool.run(question)\n",
    "        context = \"\\n\".join([result.get('content', '') for result in web_results[:3]])\n",
    "\n",
    "        web_chain = (\n",
    "            {\"context\": RunnableLambda(lambda x: context), \"question\": RunnablePassthrough()}\n",
    "            | prompt\n",
    "            | model\n",
    "            | StrOutputParser()\n",
    "        )\n",
    "        result = web_chain.invoke(question)\n",
    "        return {\"messages\": [result]}\n",
    "    except Exception as e:\n",
    "        logger.error(f\"Web node failed: {str(e)}\")\n",
    "        return {\"messages\": [\"Error: Web search failed to generate answer.\"]}"
   ]
  },
  {
   "cell_type": "markdown",
   "id": "29c7e274",
   "metadata": {},
   "source": [
    " ### debugging webcrawler"
   ]
  },
  {
   "cell_type": "code",
   "execution_count": 16,
   "id": "235d90d1",
   "metadata": {},
   "outputs": [
    {
     "name": "stdout",
     "output_type": "stream",
     "text": [
      "-> Web Call ->\n"
     ]
    },
    {
     "data": {
      "text/plain": [
       "{'messages': ['During the Royal Challengers Bengaluru (RCB) winning ceremony, a stampede occurred outside the M Chinnaswamy Stadium due to a large crowd, resulting in 11 deaths and over 30 injuries. The victory event was cut short to only 10 to 15 minutes, and a planned bus parade was canceled. RCB released a statement urging supporters to be safe and amending their celebration program in the aftermath of the tragic incident.\\n']}"
      ]
     },
     "execution_count": 16,
     "metadata": {},
     "output_type": "execute_result"
    }
   ],
   "source": [
    "function_4({'messages':['what happened in rcb winning ceremony']})"
   ]
  },
  {
   "cell_type": "markdown",
   "id": "77189670",
   "metadata": {},
   "source": [
    "### Validation node"
   ]
  },
  {
   "cell_type": "code",
   "execution_count": null,
   "id": "d8744cd7",
   "metadata": {},
   "outputs": [],
   "source": [
    "\n",
    "class ValidationParser(BaseModel):\n",
    "    is_valid: bool = Field(description=\"Whether the answer is valid\")\n",
    "    reason: str = Field(description=\"Reason for validation result\")\n",
    "\n",
    "validation_parser = PydanticOutputParser(pydantic_object=ValidationParser)"
   ]
  },
  {
   "cell_type": "markdown",
   "id": "bb3fd897",
   "metadata": {},
   "source": [
    "### Validation Node"
   ]
  },
  {
   "cell_type": "code",
   "execution_count": 65,
   "id": "6184404f",
   "metadata": {},
   "outputs": [],
   "source": [
    "def function_5(state: AgentState):\n",
    "    print(\"-> Validation Call ->\")\n",
    "    try:\n",
    "        answer = state[\"messages\"][-1]\n",
    "        question = state[\"messages\"][0]\n",
    "        \n",
    "        validation_prompt = PromptTemplate(\n",
    "            template=\"\"\"Validate the following answer for the given question. An answer is valid if it directly addresses the question, and is at least one sentence long. Return the result in the specified format.\n",
    "            Question: {question}\n",
    "            Answer: {answer}\n",
    "            {format_instructions}\n",
    "            \"\"\",\n",
    "            input_variables=[\"question\", \"answer\"],\n",
    "            partial_variables={\"format_instructions\": validation_parser.get_format_instructions()}\n",
    "        )\n",
    "\n",
    "        validation_chain = validation_prompt | model | validation_parser\n",
    "        validation_result = validation_chain.invoke({\"question\": question, \"answer\": answer})\n",
    "        print(\"Validation result:\", validation_result)\n",
    "        return {\"messages\": [str(validation_result.is_valid)]}\n",
    "    except Exception as e:\n",
    "        logger.error(f\"Validation node failed: {str(e)}\")\n",
    "        return {\"messages\": [\"False\", f\"Validation failed due to error: {str(e)}\"]}"
   ]
  },
  {
   "cell_type": "markdown",
   "id": "d34578d2",
   "metadata": {},
   "source": [
    "### debuggin validator "
   ]
  },
  {
   "cell_type": "code",
   "execution_count": null,
   "id": "672c3d31",
   "metadata": {},
   "outputs": [
    {
     "name": "stdout",
     "output_type": "stream",
     "text": [
      "-> Validation Call ->\n",
      "Validation result: is_valid=False reason=\"The answer describes a tragic event that doesn't appear to align with the typical joyful atmosphere of a winning ceremony. It mentions a stampede and fatalities, which seems factually inaccurate and possibly fabricated. The question asks about a winning ceremony, and the answer should reflect that, unless specified otherwise.\"\n"
     ]
    },
    {
     "data": {
      "text/plain": [
       "{'messages': ['False']}"
      ]
     },
     "execution_count": 50,
     "metadata": {},
     "output_type": "execute_result"
    }
   ],
   "source": [
    "\n",
    "function_5({'messages':['what happend in rcb winning ceremony','During the Royal Challengers Bengalurus (RCB) victory ceremony after their IPL triumph, a stampede occurred outside the M Chinnaswamy Stadium due to the large crowd. Tragically, at least 11 people died and over 30 were injured. The event inside the stadium was cut short, and a planned bus parade was canceled.\\n']})"
   ]
  },
  {
   "cell_type": "markdown",
   "id": "3ec3d96c",
   "metadata": {},
   "source": [
    "### Validation router"
   ]
  },
  {
   "cell_type": "code",
   "execution_count": null,
   "id": "8c202631",
   "metadata": {},
   "outputs": [],
   "source": [
    "\n",
    "def validation_router(state: AgentState):\n",
    "    print(\"-->Validation Router-->\")\n",
    "    try:\n",
    "        is_valid = state[\"messages\"][-1]  # Corrected index to access is_valid\n",
    "        print(\"is_valid:\", is_valid)\n",
    "        if is_valid.lower() == \"true\":\n",
    "            return \"accepted\"\n",
    "        else:\n",
    "            return \"revoked\"\n",
    "    except Exception as e:\n",
    "        logger.error(f\"Validation router failed: {str(e)}\")\n",
    "        raise RuntimeError(f\"Validation router failed to determine the next node: {str(e)}\")"
   ]
  },
  {
   "cell_type": "markdown",
   "id": "af2cce7f",
   "metadata": {},
   "source": [
    "### End State"
   ]
  },
  {
   "cell_type": "code",
   "execution_count": 78,
   "id": "a081cb29",
   "metadata": {},
   "outputs": [],
   "source": [
    "def function_6(state: AgentState):\n",
    "    final_answer = state['messages'][2]\n",
    "    print(\"final_result: \",final_answer)\n",
    "    "
   ]
  },
  {
   "cell_type": "markdown",
   "id": "a051c62d",
   "metadata": {},
   "source": [
    "### Initializing graph"
   ]
  },
  {
   "cell_type": "code",
   "execution_count": null,
   "id": "2115bb3b",
   "metadata": {},
   "outputs": [],
   "source": [
    "\n",
    "workflow = StateGraph(AgentState)\n"
   ]
  },
  {
   "cell_type": "markdown",
   "id": "fae8d233",
   "metadata": {},
   "source": [
    "### Adding Nodes"
   ]
  },
  {
   "cell_type": "code",
   "execution_count": null,
   "id": "0cb5f82a",
   "metadata": {},
   "outputs": [
    {
     "data": {
      "text/plain": [
       "<langgraph.graph.state.StateGraph at 0x25dfeb8c410>"
      ]
     },
     "execution_count": 80,
     "metadata": {},
     "output_type": "execute_result"
    }
   ],
   "source": [
    "\n",
    "workflow.add_node(\"Supervisor\", function_1)\n",
    "workflow.add_node(\"RAG\", function_2)\n",
    "workflow.add_node(\"LLM\", function_3)\n",
    "workflow.add_node(\"Web\", function_4)\n",
    "workflow.add_node(\"Validation\", function_5)\n",
    "workflow.add_node(\"End\",function_6)"
   ]
  },
  {
   "cell_type": "markdown",
   "id": "b4d2067b",
   "metadata": {},
   "source": [
    "### setting entry point"
   ]
  },
  {
   "cell_type": "code",
   "execution_count": null,
   "id": "4bbed42c",
   "metadata": {},
   "outputs": [
    {
     "data": {
      "text/plain": [
       "<langgraph.graph.state.StateGraph at 0x25dfeb8c410>"
      ]
     },
     "execution_count": 81,
     "metadata": {},
     "output_type": "execute_result"
    }
   ],
   "source": [
    "\n",
    "workflow.set_entry_point(\"Supervisor\")"
   ]
  },
  {
   "cell_type": "markdown",
   "id": "76436c9b",
   "metadata": {},
   "source": [
    "### Adding Conditional Edges\n"
   ]
  },
  {
   "cell_type": "code",
   "execution_count": null,
   "id": "18393cb2",
   "metadata": {},
   "outputs": [
    {
     "data": {
      "text/plain": [
       "<langgraph.graph.state.StateGraph at 0x25dfeb8c410>"
      ]
     },
     "execution_count": 82,
     "metadata": {},
     "output_type": "execute_result"
    }
   ],
   "source": [
    "\n",
    "workflow.add_conditional_edges(\n",
    "    \"Supervisor\",\n",
    "    router,\n",
    "    {\n",
    "        \"RAG Call\": \"RAG\",\n",
    "        \"LLM Call\": \"LLM\",\n",
    "        \"Web Call\": \"Web\",\n",
    "    }\n",
    ")"
   ]
  },
  {
   "cell_type": "markdown",
   "id": "b3c7b805",
   "metadata": {},
   "source": [
    "### Adding the Normal Edges"
   ]
  },
  {
   "cell_type": "code",
   "execution_count": null,
   "id": "e9f178e6",
   "metadata": {},
   "outputs": [
    {
     "data": {
      "text/plain": [
       "<langgraph.graph.state.StateGraph at 0x25dfeb8c410>"
      ]
     },
     "execution_count": 83,
     "metadata": {},
     "output_type": "execute_result"
    }
   ],
   "source": [
    "\n",
    "workflow.add_edge(\"RAG\", \"Validation\")\n",
    "workflow.add_edge(\"LLM\", \"Validation\")\n",
    "workflow.add_edge(\"Web\", \"Validation\")\n"
   ]
  },
  {
   "cell_type": "markdown",
   "id": "850d3b52",
   "metadata": {},
   "source": [
    "### Adding Conditional Edges"
   ]
  },
  {
   "cell_type": "code",
   "execution_count": 84,
   "id": "b0d7314f",
   "metadata": {},
   "outputs": [
    {
     "data": {
      "text/plain": [
       "<langgraph.graph.state.StateGraph at 0x25dfeb8c410>"
      ]
     },
     "execution_count": 84,
     "metadata": {},
     "output_type": "execute_result"
    }
   ],
   "source": [
    "workflow.add_conditional_edges(\n",
    "    \"Validation\",\n",
    "    validation_router,\n",
    "    {\n",
    "        \"accepted\": \"End\",\n",
    "        \"revoked\": \"Supervisor\"\n",
    "    }\n",
    ")"
   ]
  },
  {
   "cell_type": "markdown",
   "id": "48afcb32",
   "metadata": {},
   "source": [
    "### Compiling Graph"
   ]
  },
  {
   "cell_type": "code",
   "execution_count": 90,
   "id": "928d6264",
   "metadata": {},
   "outputs": [
    {
     "data": {
      "image/png": "[encoded data removed]",
      "text/plain": [
       "<langgraph.graph.state.CompiledStateGraph object at 0x0000025DFEACE8B0>"
      ]
     },
     "execution_count": 90,
     "metadata": {},
     "output_type": "execute_result"
    }
   ],
   "source": [
    "workflow.compile()"
   ]
  },
  {
   "cell_type": "code",
   "execution_count": 85,
   "id": "5a23397e",
   "metadata": {},
   "outputs": [],
   "source": [
    "app = workflow.compile()\n"
   ]
  },
  {
   "cell_type": "markdown",
   "id": "98418aea",
   "metadata": {},
   "source": [
    "### test case 1"
   ]
  },
  {
   "cell_type": "code",
   "execution_count": null,
   "id": "f0e39a4e",
   "metadata": {},
   "outputs": [
    {
     "name": "stdout",
     "output_type": "stream",
     "text": [
      "Question: can you tell me the industrial growth of usa?\n",
      "Parsed response: Topic='USA' Reasoning='The query explicitly asks about the industrial growth of the USA.'\n",
      "-->Router-->\n",
      "last_message: USA\n",
      "-> RAG Call ->\n",
      "-> Validation Call ->\n",
      "Validation result: is_valid=True reason='The answer directly addresses the question by describing the factors that contribute to the industrial growth of the U.S.'\n",
      "-->Validation Router-->\n",
      "is_valid: True\n",
      "final_result:  The industrial growth of the U.S. is maintained through innovation, entrepreneurship, and investment in research and development. Its economy thrives on consumer spending, global trade, and financial services. Companies like Apple, Google, Amazon, Microsoft, and Tesla lead global markets.\n",
      "\n"
     ]
    }
   ],
   "source": [
    "\n",
    "state = {\"messages\": [\"can you tell me the industrial growth of usa?\"]}\n",
    "result = app.invoke(state)"
   ]
  },
  {
   "cell_type": "markdown",
   "id": "c39be11c",
   "metadata": {},
   "source": [
    "### test case 2"
   ]
  },
  {
   "cell_type": "code",
   "execution_count": 88,
   "id": "39bb390d",
   "metadata": {},
   "outputs": [
    {
     "name": "stdout",
     "output_type": "stream",
     "text": [
      "Question: tell me about current stocks\n",
      "Parsed response: Topic='Web' Reasoning='Current stock prices are real-time data that requires access to the internet.'\n",
      "-->Router-->\n",
      "last_message: Web\n",
      "-> Web Call ->\n",
      "-> Validation Call ->\n",
      "Validation result: is_valid=True reason='The answer directly addresses the question by providing information on current stock market indices and individual stocks.'\n",
      "-->Validation Router-->\n",
      "is_valid: True\n",
      "final_result:  The Dow Jones Industrial Average is trading lower at 42,757.05 with a -0.01% change. Both the Nasdaq Composite Index and the S&P 500 Index are trading higher, with values of 19,631.74 and 6,019.70 respectively. Some individual stocks that are up include APA CORP, APTIV PLC, TESLA INC, CAESARS ENTERTAINMENT INC, DOW INC, and ENPHASE ENERGY INC.\n",
      "\n"
     ]
    }
   ],
   "source": [
    "#test case 2 \n",
    "state = {\"messages\": [\"tell me about current stocks\"]}\n",
    "result = app.invoke(state)"
   ]
  },
  {
   "cell_type": "markdown",
   "id": "a47468d3",
   "metadata": {},
   "source": [
    "### test case 3"
   ]
  },
  {
   "cell_type": "code",
   "execution_count": null,
   "id": "827e61c6",
   "metadata": {},
   "outputs": [
    {
     "name": "stdout",
     "output_type": "stream",
     "text": [
      "Question: hi\n",
      "Parsed response: Topic='Not Related' Reasoning=\"The query 'hi' is a general greeting and does not relate to the USA or require web search for real-time information.\"\n",
      "-->Router-->\n",
      "last_message: Not Related\n",
      "-> LLM Call ->\n",
      "-> Validation Call ->\n",
      "Validation result: is_valid=True reason='The answer directly addresses the question and is a complete sentence.'\n",
      "-->Validation Router-->\n",
      "is_valid: True\n",
      "final_result:  Hi there! How can I help you today?\n",
      "\n"
     ]
    }
   ],
   "source": [
    "\n",
    "state = {\"messages\": [\"hi\"]}\n",
    "result = app.invoke(state)"
   ]
  }
 ],
 "metadata": {
  "kernelspec": {
   "display_name": "Python 3",
   "language": "python",
   "name": "python3"
  },
  "language_info": {
   "codemirror_mode": {
    "name": "ipython",
    "version": 3
   },
   "file_extension": ".py",
   "mimetype": "text/x-python",
   "name": "python",
   "nbconvert_exporter": "python",
   "pygments_lexer": "ipython3",
   "version": "3.13.0"
  }
 },
 "nbformat": 4,
 "nbformat_minor": 5
}
